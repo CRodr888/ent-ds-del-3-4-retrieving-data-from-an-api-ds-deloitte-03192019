{
 "cells": [
  {
   "cell_type": "markdown",
   "metadata": {},
   "source": [
    "# Retrieving Data from an API\n",
    "\n",
    "\n",
    "## Introduction\n",
    "Now that we've learned the basics of working with XML and JSON files, the next step it to work with a real API. In this lesson, you'll go through the process of signing up for an account, creating an application (app), adding your API key, querying an API and saving and transforming the results. Don't worry if you don't know what most of that means - you will by the end of the lesson!\n",
    "\n",
    "\n",
    "## Objectives\n",
    "You will be able to:\n",
    "* Explain why APIs often require authentication and unique keys for apps\n",
    "* Create a developer account at the NY Times\n",
    "* Query information from the NY Times API, retrieve the results and transform a subset of the data into Lists or DataFrames"
   ]
  },
  {
   "cell_type": "markdown",
   "metadata": {},
   "source": [
    "## Welcome to the NY Times!\n",
    "\n",
    "Today we're going to go through the process of creating an account, creating an app, and using your app to make API calls against the New York Times.\n",
    "\n",
    "###  Creating a Developer Account\n",
    "When you want to call an API, it is often necessary to create some kind of account with the organization that is providing the API. It allows them to know what person (or at least what email address) is associated with all of the queries you run, allowing them to shut down your access to the API if your usage of their API doesn't follow their guidelines (excessive use, unacceptable uses, etc).\n",
    "\n",
    "Let's sign up for a developer account with the NY Times. Start by going [here](https://developer.nytimes.com).\n",
    "\n",
    "You should see a page similar to this:\n",
    "\n",
    "![screenshot-1](http://curriculum-content.s3.amazonaws.com/data-science/developer-initial-page.png)\n",
    "\n",
    "Click on the \"Get Started\" option, and it'll show you the following steps:\n",
    "\n",
    "![screenshot-1](http://curriculum-content.s3.amazonaws.com/data-science/get-started.png)\n",
    "\n",
    "Let's go through those steps one at a time:\n",
    "* Click the \"Sign In\" link\n",
    "* Click to \"Create an Account\" - make sure to use an email address you can access easily\n",
    "* Follow the prompts to register\n",
    "* Click on the link in the email received to confirm your account\n",
    "\n",
    "Congratulations - when you're done with this you should have a developer account with the NY Times."
   ]
  },
  {
   "cell_type": "markdown",
   "metadata": {},
   "source": [
    "### Register Your App\n",
    "The next step that many API providers ask you to do is to \"register your app\". Why do they do that? Well, there isn't always a 1:1 correspondence between developers and applications. Imagine that after this course you decide to become a professional software developer, building web apps for various clients. You would want to use a different set of credentials for each of the applications that you build so if one of your clients started misusing the API your entire developer account wouldn't get suspended - just their app.\n",
    "\n",
    "To create your new App:\n",
    "- Click on your email address in the top right - a drop down menu should appear\n",
    "- Select the \"My Apps\" option\n",
    "- Click on the \"+ NEW APP\" button in the top right\n",
    "- Give it an app name (e.g. \"Test app for class\")\n",
    "- Enter a short description (e.g. \"Test app for Python class\")\n",
    "- Select the API(s) it'll have access to - let's just pick the \"Article Search API\" for now\n",
    "- Click the \"CREATE\" icon on the top right\n",
    "\n",
    "When you do, it should show you the details of your app and they should look something like this:\n",
    "\n",
    "![your-first-app](http://curriculum-content.s3.amazonaws.com/data-science/your-first-app.png)\n"
   ]
  },
  {
   "cell_type": "markdown",
   "metadata": {},
   "source": [
    "## Calling the API\n",
    "\n",
    "Next up, we need to go read some docs. Click on the \"APIs\" link at the top of the NY Times developer website to go [here](https://developer.nytimes.com/apis). Click on the \"Article Search API\" link to go [here](https://developer.nytimes.com/docs/articlesearch-product/1/overview).\n",
    "\n",
    "It explains that you need to make a call to a URL that looks something like this:\n",
    "\n",
    "`https://api.nytimes.com/svc/search/v2/articlesearch.json?q=election&api-key=yourkey`\n",
    "\n",
    "Where you would replace election with whatever search term you wanted, and the `yourkey` at the end with the API key you just got for your app. \n",
    "\n",
    "Give it a try! Open a new tab in your browser, copy the whole URL string above, paste it into the new browser tab and hit return. You should get the following message returned:\n",
    "\n",
    "```\n",
    "{\n",
    "    \"fault\": {\n",
    "        \"faultstring\": \"Invalid ApiKey\",\n",
    "        \"detail\": {\n",
    "            \"errorcode\": \"oauth.v2.InvalidApiKey\"\n",
    "        }\n",
    "    }\n",
    "}\n",
    "```\n",
    "Well, that's not much of a surprise. We said that we'd have to replace the end of the URL with your real key for your app. So go in and give that a try,. Go back to the tab with your app information in *(or go [here](https://developer.nytimes.com/my-apps) if you navigated away from that)*, click on your app, and where it says \"API Keys\" and then \"Key\", mouse over the key, then click on the \"copy to clipboard link that pops up when you mouse over it.\n",
    "\n",
    "![copy-to-clipboard](http://curriculum-content.s3.amazonaws.com/data-science/copy-to-clipboard.png)\n",
    "\n",
    "Now go back to the end of the URL in your browser:\n",
    "\n",
    "`https://api.nytimes.com/svc/search/v2/articlesearch.json?q=election&api-key=yourkey`\n",
    "\n",
    "Delete `yourkey` from the end of the URL and paste from clipboard (control-v) to paste your key onto the end of the URL. Hit the enter key to go to the page, and you should get a valid response with articles relating to the election:\n",
    "\n",
    "![valid-api-response](http://curriculum-content.s3.amazonaws.com/data-science/valid-api-response.png)"
   ]
  },
  {
   "cell_type": "markdown",
   "metadata": {},
   "source": [
    "### Automating the API Call\n",
    "\n",
    "The good news is that we were able to test this API call in the browser. But now we really need to figure out how to do this from Python. That way whether we want to run hundreds of calls a day or simply run a query every week or two, we can automate the process of asking for, receiving, processing and acting on the information - in whatever way we want to.\n",
    "\n",
    "The first step, then, is to figure out how to call the API from Python.\n",
    "\n",
    "\n"
   ]
  },
  {
   "cell_type": "code",
   "execution_count": null,
   "metadata": {},
   "outputs": [],
   "source": [
    "import requests\n",
    "response = requests.get(\"https://api.nytimes.com/svc/search/v2/articlesearch.json?q=election&api-key=xxx\")\n",
    "print(response)\n",
    "print(response.text[:500])"
   ]
  },
  {
   "cell_type": "code",
   "execution_count": null,
   "metadata": {},
   "outputs": [],
   "source": []
  },
  {
   "cell_type": "code",
   "execution_count": null,
   "metadata": {},
   "outputs": [],
   "source": []
  },
  {
   "cell_type": "code",
   "execution_count": null,
   "metadata": {},
   "outputs": [],
   "source": []
  },
  {
   "cell_type": "code",
   "execution_count": null,
   "metadata": {},
   "outputs": [],
   "source": []
  },
  {
   "cell_type": "code",
   "execution_count": null,
   "metadata": {},
   "outputs": [],
   "source": []
  },
  {
   "cell_type": "code",
   "execution_count": null,
   "metadata": {},
   "outputs": [],
   "source": []
  },
  {
   "cell_type": "code",
   "execution_count": null,
   "metadata": {},
   "outputs": [],
   "source": []
  },
  {
   "cell_type": "code",
   "execution_count": null,
   "metadata": {},
   "outputs": [],
   "source": []
  },
  {
   "cell_type": "markdown",
   "metadata": {},
   "source": [
    "## Summary\n",
    "\n"
   ]
  }
 ],
 "metadata": {
  "kernelspec": {
   "display_name": "Python 3",
   "language": "python",
   "name": "python3"
  },
  "language_info": {
   "codemirror_mode": {
    "name": "ipython",
    "version": 3
   },
   "file_extension": ".py",
   "mimetype": "text/x-python",
   "name": "python",
   "nbconvert_exporter": "python",
   "pygments_lexer": "ipython3",
   "version": "3.6.5"
  }
 },
 "nbformat": 4,
 "nbformat_minor": 2
}
